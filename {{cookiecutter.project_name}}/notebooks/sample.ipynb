{
 "cells": [
  {
   "cell_type": "code",
   "execution_count": 4,
   "metadata": {},
   "outputs": [],
   "source": [
    "from pathlib import Path\n",
    "from kedro.context import load_context\n",
    "\n",
    "proj_path = Path.cwd()\n",
    "context = load_context(proj_path)"
   ]
  },
  {
   "cell_type": "code",
   "execution_count": 11,
   "metadata": {},
   "outputs": [],
   "source": [
    "\"\"\"Load data catalog\n",
    "ref. https://kedro.readthedocs.io/en/latest/04_user_guide/04_data_catalog.html\n",
    "\"\"\"\n",
    "context.catalog.load(\"YOUR_DATA_NAME\").head()"
   ]
  }
 ],
 "metadata": {
  "kernelspec": {
   "display_name": "{{cookiecutter.project_name}}",
   "language": "python",
   "name": "python3"
  },
  "language_info": {
   "codemirror_mode": {
    "name": "ipython",
    "version": 3
   },
   "file_extension": ".py",
   "mimetype": "text/x-python",
   "name": "python",
   "nbconvert_exporter": "python",
   "pygments_lexer": "ipython3",
   "version": "3.7.6"
  }
 },
 "nbformat": 4,
 "nbformat_minor": 4
}
